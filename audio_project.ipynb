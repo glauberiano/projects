# inicialização de projeto de audio

from audio_project import audioCharacterization
from pylab import *
import matplotlib.pyplot as  plt
import numpy as np
import pandas as pd

%matplotlib inline
%load_ext autoreload
%autoreload 2

plt.rcParams['figure.figsize'] = 17, 6
